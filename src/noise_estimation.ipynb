{
 "cells": [
  {
   "cell_type": "code",
   "execution_count": 10,
   "metadata": {
    "collapsed": false
   },
   "outputs": [],
   "source": [
    "measurements = []\n",
    "\n",
    "with open('../data/obj_pose-laser-radar-synthetic-input.txt') as f:\n",
    "    meas_lines = f.readlines()    \n",
    "\n",
    "for meas_line in meas_lines:\n",
    "    meas = dict()\n",
    "    meas_line = meas_line.split()\n",
    "    if meas_line[0] == 'L':\n",
    "        meas['t'] = int(meas_line[3])\n",
    "        meas['vx'] = float(meas_line[6])\n",
    "        meas['vy'] = float(meas_line[7])\n",
    "    elif meas_line[0] == 'R':\n",
    "        meas['t'] = int(meas_line[4])\n",
    "        meas['vx'] = float(meas_line[7])\n",
    "        meas['vy'] = float(meas_line[8])\n",
    "    measurements.append(meas)"
   ]
  },
  {
   "cell_type": "code",
   "execution_count": 13,
   "metadata": {
    "collapsed": false
   },
   "outputs": [],
   "source": [
    "import math\n",
    "accelerations = []\n",
    "for i in range(len(measurements)-1):\n",
    "    dt = (measurements[i+1]['t'] - measurements[i]['t']) / 1000000.0\n",
    "    v_now = math.sqrt(measurements[i+1]['vx']**2 + measurements[i+1]['vy']**2)\n",
    "    v_prev = math.sqrt(measurements[i]['vx']**2 + measurements[i]['vy']**2)\n",
    "    acc = (v_now -v_prev) / dt\n",
    "    accelerations.append(abs(acc))"
   ]
  },
  {
   "cell_type": "code",
   "execution_count": 17,
   "metadata": {
    "collapsed": false
   },
   "outputs": [
    {
     "data": {
      "text/html": [
       "<div>\n",
       "<table border=\"1\" class=\"dataframe\">\n",
       "  <thead>\n",
       "    <tr style=\"text-align: right;\">\n",
       "      <th></th>\n",
       "      <th>0</th>\n",
       "    </tr>\n",
       "  </thead>\n",
       "  <tbody>\n",
       "    <tr>\n",
       "      <th>count</th>\n",
       "      <td>499.000000</td>\n",
       "    </tr>\n",
       "    <tr>\n",
       "      <th>mean</th>\n",
       "      <td>0.064126</td>\n",
       "    </tr>\n",
       "    <tr>\n",
       "      <th>std</th>\n",
       "      <td>0.030869</td>\n",
       "    </tr>\n",
       "    <tr>\n",
       "      <th>min</th>\n",
       "      <td>0.001246</td>\n",
       "    </tr>\n",
       "    <tr>\n",
       "      <th>25%</th>\n",
       "      <td>0.038183</td>\n",
       "    </tr>\n",
       "    <tr>\n",
       "      <th>50%</th>\n",
       "      <td>0.071531</td>\n",
       "    </tr>\n",
       "    <tr>\n",
       "      <th>75%</th>\n",
       "      <td>0.092514</td>\n",
       "    </tr>\n",
       "    <tr>\n",
       "      <th>max</th>\n",
       "      <td>0.100538</td>\n",
       "    </tr>\n",
       "  </tbody>\n",
       "</table>\n",
       "</div>"
      ],
      "text/plain": [
       "                0\n",
       "count  499.000000\n",
       "mean     0.064126\n",
       "std      0.030869\n",
       "min      0.001246\n",
       "25%      0.038183\n",
       "50%      0.071531\n",
       "75%      0.092514\n",
       "max      0.100538"
      ]
     },
     "execution_count": 17,
     "metadata": {},
     "output_type": "execute_result"
    }
   ],
   "source": [
    "import pandas as pd\n",
    "df = pd.DataFrame(accelerations)\n",
    "df.describe()"
   ]
  },
  {
   "cell_type": "code",
   "execution_count": null,
   "metadata": {
    "collapsed": true
   },
   "outputs": [],
   "source": []
  }
 ],
 "metadata": {
  "kernelspec": {
   "display_name": "Python 3",
   "language": "python",
   "name": "python3"
  },
  "language_info": {
   "codemirror_mode": {
    "name": "ipython",
    "version": 3
   },
   "file_extension": ".py",
   "mimetype": "text/x-python",
   "name": "python",
   "nbconvert_exporter": "python",
   "pygments_lexer": "ipython3",
   "version": "3.5.2"
  }
 },
 "nbformat": 4,
 "nbformat_minor": 1
}
